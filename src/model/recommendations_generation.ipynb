{
 "cells": [
  {
   "attachments": {},
   "cell_type": "markdown",
   "metadata": {},
   "source": [
    "Run third"
   ]
  },
  {
   "attachments": {},
   "cell_type": "markdown",
   "metadata": {},
   "source": [
    "### Generowanie predykcji dla użytkowników"
   ]
  },
  {
   "attachments": {},
   "cell_type": "markdown",
   "metadata": {},
   "source": [
    "Import niezbędnych bibliotek, definicja ustawień logowania i stałych"
   ]
  },
  {
   "cell_type": "code",
   "execution_count": 1,
   "metadata": {},
   "outputs": [],
   "source": [
    "import pandas as pd\n",
    "\n",
    "import logging as log\n",
    "from os.path import dirname, join, abspath\n",
    "import sys\n",
    "sys.path.insert(0, abspath(join(dirname('recommender_system'), '..')))\n",
    "\n",
    "from src.utils.helper import (\n",
    "    create_table_in_postgres_db,\n",
    "    load_input_data_from_csv_to_postgres_table,\n",
    "    generate_recommendations,\n",
    "    get_newest_existing_model_version,\n",
    "    save_data_to_pkl,\n",
    "    save_recommendations_to_csv,\n",
    "    unpickle\n",
    ")"
   ]
  },
  {
   "cell_type": "code",
   "execution_count": 2,
   "metadata": {},
   "outputs": [],
   "source": [
    "logger = log.getLogger()\n",
    "logger.setLevel(log.INFO)"
   ]
  },
  {
   "cell_type": "code",
   "execution_count": 3,
   "metadata": {},
   "outputs": [],
   "source": [
    "BASE_PATH = abspath(join(dirname('recommender_system'), '../../..'))\n",
    "RESULTS_PATH = f'{BASE_PATH}/results'"
   ]
  },
  {
   "attachments": {},
   "cell_type": "markdown",
   "metadata": {},
   "source": [
    "Załadowanie danych z plików do obiektów DataFrame"
   ]
  },
  {
   "cell_type": "code",
   "execution_count": 4,
   "metadata": {},
   "outputs": [],
   "source": [
    "ratings_df = pd.read_csv(f'{BASE_PATH}/input_data/All_Beauty.csv')\n",
    "items_df = pd.read_csv(f'{BASE_PATH}/input_data/meta_All_Beauty.csv')"
   ]
  },
  {
   "attachments": {},
   "cell_type": "markdown",
   "metadata": {},
   "source": [
    "Stworzenie listy użytkowników i produktów"
   ]
  },
  {
   "cell_type": "code",
   "execution_count": 5,
   "metadata": {},
   "outputs": [
    {
     "name": "stdout",
     "output_type": "stream",
     "text": [
      "Number of user ids: 371345\n",
      "Number of item ids: 32488\n"
     ]
    }
   ],
   "source": [
    "user_ids = list(ratings_df[\"reviewerID\"])\n",
    "asins = list(items_df[\"asin\"])\n",
    "print(f\"Number of user ids: {len(user_ids)}\\nNumber of item ids: {len(asins)}\")"
   ]
  },
  {
   "attachments": {},
   "cell_type": "markdown",
   "metadata": {},
   "source": [
    "Stworzenie tabeli w bazie danych"
   ]
  },
  {
   "cell_type": "code",
   "execution_count": 6,
   "metadata": {},
   "outputs": [
    {
     "ename": "SyntaxError",
     "evalue": "syntax error at or near \"recommendations\"\nLINE 3:     recommendations varchar\n            ^\n",
     "output_type": "error",
     "traceback": [
      "\u001b[0;31m---------------------------------------------------------------------------\u001b[0m",
      "\u001b[0;31mSyntaxError\u001b[0m                               Traceback (most recent call last)",
      "Cell \u001b[0;32mIn[6], line 9\u001b[0m\n\u001b[1;32m      1\u001b[0m \u001b[39m## Create table to store ratings data if it does not exist\u001b[39;00m\n\u001b[1;32m      2\u001b[0m create_recommendations \u001b[39m=\u001b[39m \u001b[39m'''\u001b[39m\u001b[39mcreate table IF NOT exists recommendations (\u001b[39m\n\u001b[1;32m      3\u001b[0m \u001b[39m\tuser_id varchar(20)\u001b[39m\n\u001b[1;32m      4\u001b[0m \u001b[39m    recommendations varchar\u001b[39m\n\u001b[1;32m      5\u001b[0m \u001b[39m    model varchar(100)\u001b[39m\n\u001b[1;32m      6\u001b[0m \u001b[39m    model_version int4\u001b[39m\n\u001b[1;32m      7\u001b[0m \u001b[39m);\u001b[39m\u001b[39m'''\u001b[39m\n\u001b[0;32m----> 9\u001b[0m create_table_in_postgres_db(create_recommendations)\n",
      "File \u001b[0;32m/usr/local/lib/python3.10/dist-packages/recommender_system-1.0.0-py3.10.egg/src/utils/helper.py:21\u001b[0m, in \u001b[0;36mcreate_table_in_postgres_db\u001b[0;34m(sql)\u001b[0m\n\u001b[1;32m     19\u001b[0m \u001b[39mdef\u001b[39;00m \u001b[39mcreate_table_in_postgres_db\u001b[39m(sql):\n\u001b[1;32m     20\u001b[0m     conn, cursor \u001b[39m=\u001b[39m _establish_db_connection()\n\u001b[0;32m---> 21\u001b[0m     cursor\u001b[39m.\u001b[39;49mexecute(sql)\n\u001b[1;32m     22\u001b[0m     conn\u001b[39m.\u001b[39mcommit()\n\u001b[1;32m     23\u001b[0m     conn\u001b[39m.\u001b[39mclose()\n",
      "\u001b[0;31mSyntaxError\u001b[0m: syntax error at or near \"recommendations\"\nLINE 3:     recommendations varchar\n            ^\n"
     ]
    }
   ],
   "source": [
    "## Create table to store ratings data if it does not exist\n",
    "create_recommendations = '''create table IF NOT exists recommendations (\n",
    "\tuser_id varchar(20),\n",
    "    recommendations varchar,\n",
    "    model varchar(100),\n",
    "    model_version int4\n",
    ");'''\n",
    "\n",
    "create_table_in_postgres_db(create_recommendations)"
   ]
  },
  {
   "attachments": {},
   "cell_type": "markdown",
   "metadata": {},
   "source": [
    "#### Generowanie rekomendacji z modelu z mechanizmem optymalizacji adagrad oraz funkcją straty BPR"
   ]
  },
  {
   "cell_type": "code",
   "execution_count": null,
   "metadata": {},
   "outputs": [],
   "source": [
    "model_name = \"adagrad_bpr_model\"\n",
    "\n",
    "model_results_path = f'{RESULTS_PATH}/{model_name}'\n",
    "version = get_newest_existing_model_version(model_results_path)\n",
    "\n",
    "dataset = unpickle(f'{RESULTS_PATH}/{model_name}/dataset_v{version}.pkl')\n",
    "model = unpickle(f'{RESULTS_PATH}/{model_name}/{model_name}_v{version}.pkl')\n",
    "\n",
    "recommendations = generate_recommendations(dataset, asins, model)"
   ]
  },
  {
   "cell_type": "code",
   "execution_count": null,
   "metadata": {},
   "outputs": [],
   "source": [
    "RECOMMENDATIONS_FILE_PATH = f'{RESULTS_PATH}/recommendations/recommendations_{model_name}_v{version}.pkl'"
   ]
  },
  {
   "attachments": {},
   "cell_type": "markdown",
   "metadata": {},
   "source": [
    "Zapisywanie do pliku pickle"
   ]
  },
  {
   "cell_type": "code",
   "execution_count": null,
   "metadata": {},
   "outputs": [],
   "source": [
    "save_data_to_pkl(RECOMMENDATIONS_FILE_PATH, recommendations)"
   ]
  },
  {
   "attachments": {},
   "cell_type": "markdown",
   "metadata": {},
   "source": [
    "Zapisywanie do pliku csv"
   ]
  },
  {
   "cell_type": "code",
   "execution_count": null,
   "metadata": {},
   "outputs": [],
   "source": [
    "save_recommendations_to_csv(\n",
    "    model_name,\n",
    "    RECOMMENDATIONS_FILE_PATH,\n",
    "    recommendations,\n",
    "    version\n",
    ")"
   ]
  },
  {
   "attachments": {},
   "cell_type": "markdown",
   "metadata": {},
   "source": [
    "Ładowanie pliku csv do bazy danych PostgresSQL"
   ]
  },
  {
   "cell_type": "code",
   "execution_count": null,
   "metadata": {},
   "outputs": [],
   "source": [
    "load_input_data_from_csv_to_postgres_table(model_name, RECOMMENDATIONS_FILE_PATH, version)"
   ]
  },
  {
   "attachments": {},
   "cell_type": "markdown",
   "metadata": {},
   "source": [
    "#### Generowanie rekomendacji z modelu z mechanizmem optymalizacji adadelta oraz funkcją straty BPR"
   ]
  },
  {
   "cell_type": "code",
   "execution_count": null,
   "metadata": {},
   "outputs": [],
   "source": [
    "model_name = \"adadelta_bpr_model\"\n",
    "\n",
    "model_results_path = f'{RESULTS_PATH}/{model_name}'\n",
    "version = get_newest_existing_model_version(model_results_path)\n",
    "\n",
    "dataset = unpickle(f'{RESULTS_PATH}/{model_name}/dataset_v{version}.pkl')\n",
    "model = unpickle(f'{RESULTS_PATH}/{model_name}/{model_name}_v{version}.pkl')\n",
    "\n",
    "recommendations = generate_recommendations(dataset, asins, model)"
   ]
  },
  {
   "attachments": {},
   "cell_type": "markdown",
   "metadata": {},
   "source": [
    "Zapisywanie do pliku pickle"
   ]
  },
  {
   "cell_type": "code",
   "execution_count": null,
   "metadata": {},
   "outputs": [],
   "source": [
    "save_data_to_pkl(RECOMMENDATIONS_FILE_PATH, recommendations)"
   ]
  },
  {
   "attachments": {},
   "cell_type": "markdown",
   "metadata": {},
   "source": [
    "Zapisywanie do pliku csv"
   ]
  },
  {
   "cell_type": "code",
   "execution_count": null,
   "metadata": {},
   "outputs": [],
   "source": [
    "save_recommendations_to_csv(\n",
    "    model_name,\n",
    "    RECOMMENDATIONS_FILE_PATH,\n",
    "    recommendations,\n",
    "    version\n",
    ")"
   ]
  },
  {
   "attachments": {},
   "cell_type": "markdown",
   "metadata": {},
   "source": [
    "Ładowanie pliku csv do bazy danych PostgresSQL"
   ]
  },
  {
   "cell_type": "code",
   "execution_count": null,
   "metadata": {},
   "outputs": [],
   "source": [
    "load_input_data_from_csv_to_postgres_table(model_name, RECOMMENDATIONS_FILE_PATH, version)"
   ]
  },
  {
   "attachments": {},
   "cell_type": "markdown",
   "metadata": {},
   "source": [
    "#### Generowanie rekomendacji z modelu z mechanizmem optymalizacji adagrad oraz funkcją straty WARP"
   ]
  },
  {
   "cell_type": "code",
   "execution_count": null,
   "metadata": {},
   "outputs": [],
   "source": [
    "model_name = \"adagrad_warp_model\"\n",
    "\n",
    "model_results_path = f'{RESULTS_PATH}/{model_name}'\n",
    "version = get_newest_existing_model_version(model_results_path)\n",
    "\n",
    "dataset = unpickle(f'{RESULTS_PATH}/{model_name}/dataset_v{version}.pkl')\n",
    "model = unpickle(f'{RESULTS_PATH}/{model_name}/{model_name}_v{version}.pkl')\n",
    "\n",
    "recommendations = generate_recommendations(dataset, asins, model)"
   ]
  },
  {
   "attachments": {},
   "cell_type": "markdown",
   "metadata": {},
   "source": [
    "Zapisywanie do pliku pickle"
   ]
  },
  {
   "cell_type": "code",
   "execution_count": null,
   "metadata": {},
   "outputs": [],
   "source": [
    "save_data_to_pkl(RECOMMENDATIONS_FILE_PATH, recommendations)"
   ]
  },
  {
   "attachments": {},
   "cell_type": "markdown",
   "metadata": {},
   "source": [
    "Zapisywanie do pliku csv"
   ]
  },
  {
   "cell_type": "code",
   "execution_count": null,
   "metadata": {},
   "outputs": [],
   "source": [
    "save_recommendations_to_csv(\n",
    "    model_name,\n",
    "    RECOMMENDATIONS_FILE_PATH,\n",
    "    recommendations,\n",
    "    version\n",
    ")"
   ]
  },
  {
   "attachments": {},
   "cell_type": "markdown",
   "metadata": {},
   "source": [
    "Ładowanie pliku csv do bazy danych PostgresSQL"
   ]
  },
  {
   "cell_type": "code",
   "execution_count": null,
   "metadata": {},
   "outputs": [],
   "source": [
    "load_input_data_from_csv_to_postgres_table(model_name, RECOMMENDATIONS_FILE_PATH, version)"
   ]
  },
  {
   "attachments": {},
   "cell_type": "markdown",
   "metadata": {},
   "source": [
    "#### Generowanie rekomendacji z modelu z mechanizmem optymalizacji adadelta oraz funkcją straty WARP"
   ]
  },
  {
   "cell_type": "code",
   "execution_count": 9,
   "metadata": {},
   "outputs": [
    {
     "name": "stderr",
     "output_type": "stream",
     "text": [
      "INFO:root:Data have been pickled.\n"
     ]
    }
   ],
   "source": [
    "model_name = \"adadelta_warp_model\"\n",
    "\n",
    "model_results_path = f'{RESULTS_PATH}/{model_name}'\n",
    "version = get_newest_existing_model_version(model_results_path)\n",
    "\n",
    "dataset = unpickle(f'{RESULTS_PATH}/{model_name}/dataset_v{version}.pkl')\n",
    "model = unpickle(f'{RESULTS_PATH}/{model_name}/{model_name}_v{version}.pkl')\n",
    "\n",
    "recommendations = generate_recommendations(dataset, asins, model, user_ids)"
   ]
  },
  {
   "attachments": {},
   "cell_type": "markdown",
   "metadata": {},
   "source": [
    "Zapisywanie do pliku pickle"
   ]
  },
  {
   "cell_type": "code",
   "execution_count": null,
   "metadata": {},
   "outputs": [],
   "source": [
    "save_data_to_pkl(RECOMMENDATIONS_FILE_PATH, recommendations)"
   ]
  },
  {
   "attachments": {},
   "cell_type": "markdown",
   "metadata": {},
   "source": [
    "Zapisywanie do pliku csv"
   ]
  },
  {
   "cell_type": "code",
   "execution_count": null,
   "metadata": {},
   "outputs": [],
   "source": [
    "save_recommendations_to_csv(\n",
    "    model_name,\n",
    "    RECOMMENDATIONS_FILE_PATH,\n",
    "    recommendations,\n",
    "    version\n",
    ")"
   ]
  },
  {
   "attachments": {},
   "cell_type": "markdown",
   "metadata": {},
   "source": [
    "Ładowanie pliku csv do bazy danych PostgresSQL"
   ]
  },
  {
   "cell_type": "code",
   "execution_count": null,
   "metadata": {},
   "outputs": [],
   "source": [
    "load_input_data_from_csv_to_postgres_table(model_name, RECOMMENDATIONS_FILE_PATH, version)"
   ]
  },
  {
   "attachments": {},
   "cell_type": "markdown",
   "metadata": {},
   "source": [
    "#### Generowanie rekomendacji z modelu z mechanizmem optymalizacji adagrad oraz funkcją straty k-OS WARP"
   ]
  },
  {
   "cell_type": "code",
   "execution_count": 10,
   "metadata": {},
   "outputs": [
    {
     "name": "stderr",
     "output_type": "stream",
     "text": [
      "INFO:root:Data have been pickled.\n"
     ]
    }
   ],
   "source": [
    "model_name = \"adagrad_kos_warp_model\"\n",
    "\n",
    "model_results_path = f'{RESULTS_PATH}/{model_name}'\n",
    "version = get_newest_existing_model_version(model_results_path)\n",
    "\n",
    "dataset = unpickle(f'{RESULTS_PATH}/{model_name}/dataset_v{version}.pkl')\n",
    "model = unpickle(f'{RESULTS_PATH}/{model_name}/{model_name}_v{version}.pkl')\n",
    "\n",
    "recommendations = generate_recommendations(dataset, asins, model, user_ids)"
   ]
  },
  {
   "attachments": {},
   "cell_type": "markdown",
   "metadata": {},
   "source": [
    "Zapisywanie do pliku pickle"
   ]
  },
  {
   "cell_type": "code",
   "execution_count": null,
   "metadata": {},
   "outputs": [],
   "source": [
    "save_data_to_pkl(RECOMMENDATIONS_FILE_PATH, recommendations)"
   ]
  },
  {
   "attachments": {},
   "cell_type": "markdown",
   "metadata": {},
   "source": [
    "Zapisywanie do pliku csv"
   ]
  },
  {
   "cell_type": "code",
   "execution_count": null,
   "metadata": {},
   "outputs": [],
   "source": [
    "save_recommendations_to_csv(\n",
    "    model_name,\n",
    "    RECOMMENDATIONS_FILE_PATH,\n",
    "    recommendations,\n",
    "    version\n",
    ")"
   ]
  },
  {
   "attachments": {},
   "cell_type": "markdown",
   "metadata": {},
   "source": [
    "Ładowanie pliku csv do bazy danych PostgresSQL"
   ]
  },
  {
   "cell_type": "code",
   "execution_count": null,
   "metadata": {},
   "outputs": [],
   "source": [
    "load_input_data_from_csv_to_postgres_table(model_name, RECOMMENDATIONS_FILE_PATH, version)"
   ]
  },
  {
   "attachments": {},
   "cell_type": "markdown",
   "metadata": {},
   "source": [
    "Generowanie rekomendacji z modelu z mechanizmem optymalizacji adadelta oraz funkcją straty k-OS WARP"
   ]
  },
  {
   "cell_type": "code",
   "execution_count": 11,
   "metadata": {},
   "outputs": [
    {
     "name": "stderr",
     "output_type": "stream",
     "text": [
      "INFO:root:Data have been pickled.\n"
     ]
    }
   ],
   "source": [
    "model_name = \"adadelta_kos_warp_model\"\n",
    "\n",
    "model_results_path = f'{RESULTS_PATH}/{model_name}'\n",
    "version = get_newest_existing_model_version(model_results_path)\n",
    "\n",
    "dataset = unpickle(f'{RESULTS_PATH}/{model_name}/dataset_v{version}.pkl')\n",
    "model = unpickle(f'{RESULTS_PATH}/{model_name}/{model_name}_v{version}.pkl')\n",
    "\n",
    "recommendations = generate_recommendations(dataset, asins, model, user_ids)"
   ]
  },
  {
   "attachments": {},
   "cell_type": "markdown",
   "metadata": {},
   "source": [
    "Zapisywanie do pliku pickle"
   ]
  },
  {
   "cell_type": "code",
   "execution_count": null,
   "metadata": {},
   "outputs": [],
   "source": [
    "save_data_to_pkl(RECOMMENDATIONS_FILE_PATH, recommendations)"
   ]
  },
  {
   "attachments": {},
   "cell_type": "markdown",
   "metadata": {},
   "source": [
    "Zapisywanie do pliku csv"
   ]
  },
  {
   "cell_type": "code",
   "execution_count": null,
   "metadata": {},
   "outputs": [],
   "source": [
    "save_recommendations_to_csv(\n",
    "    model_name,\n",
    "    RECOMMENDATIONS_FILE_PATH,\n",
    "    recommendations,\n",
    "    version\n",
    ")"
   ]
  },
  {
   "attachments": {},
   "cell_type": "markdown",
   "metadata": {},
   "source": [
    "Ładowanie pliku csv do bazy danych PostgresSQL"
   ]
  },
  {
   "cell_type": "code",
   "execution_count": null,
   "metadata": {},
   "outputs": [],
   "source": [
    "load_input_data_from_csv_to_postgres_table(model_name, RECOMMENDATIONS_FILE_PATH, version)"
   ]
  }
 ],
 "metadata": {
  "kernelspec": {
   "display_name": "Python 3",
   "language": "python",
   "name": "python3"
  },
  "language_info": {
   "codemirror_mode": {
    "name": "ipython",
    "version": 3
   },
   "file_extension": ".py",
   "mimetype": "text/x-python",
   "name": "python",
   "nbconvert_exporter": "python",
   "pygments_lexer": "ipython3",
   "version": "3.10.6"
  },
  "orig_nbformat": 4
 },
 "nbformat": 4,
 "nbformat_minor": 2
}
