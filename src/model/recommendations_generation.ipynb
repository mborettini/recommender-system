{
 "cells": [
  {
   "attachments": {},
   "cell_type": "markdown",
   "metadata": {},
   "source": [
    "Run third"
   ]
  },
  {
   "attachments": {},
   "cell_type": "markdown",
   "metadata": {},
   "source": [
    "### Generowanie predykcji dla użytkowników"
   ]
  },
  {
   "attachments": {},
   "cell_type": "markdown",
   "metadata": {},
   "source": [
    "Import niezbędnych bibliotek, definicja ustawień logowania i stałych"
   ]
  },
  {
   "cell_type": "code",
   "execution_count": 56,
   "metadata": {},
   "outputs": [],
   "source": [
    "import pandas as pd\n",
    "\n",
    "import logging as log\n",
    "from os.path import dirname, join, abspath\n",
    "import sys\n",
    "sys.path.insert(0, abspath(join(dirname('recommender_system'), '..')))\n",
    "\n",
    "from src.utils.helper import (\n",
    "    create_table_in_postgres_db,\n",
    "    load_recommendations_data_from_csv_to_postgres_table,\n",
    "    generate_recommendations,\n",
    "    get_newest_existing_model_version,\n",
    "    save_data_to_pkl,\n",
    "    save_recommendations_to_csv,\n",
    "    unpickle\n",
    ")"
   ]
  },
  {
   "cell_type": "code",
   "execution_count": 57,
   "metadata": {},
   "outputs": [],
   "source": [
    "logger = log.getLogger()\n",
    "logger.setLevel(log.INFO)"
   ]
  },
  {
   "cell_type": "code",
   "execution_count": 58,
   "metadata": {},
   "outputs": [],
   "source": [
    "BASE_PATH = abspath(join(dirname('recommender_system'), '../../..'))\n",
    "RESULTS_PATH = f'{BASE_PATH}/results'"
   ]
  },
  {
   "attachments": {},
   "cell_type": "markdown",
   "metadata": {},
   "source": [
    "Załadowanie danych z plików do obiektów DataFrame"
   ]
  },
  {
   "cell_type": "code",
   "execution_count": 59,
   "metadata": {},
   "outputs": [],
   "source": [
    "ratings_df = pd.read_csv(f'{BASE_PATH}/input_data/All_Beauty.csv')\n",
    "items_df = pd.read_csv(f'{BASE_PATH}/input_data/meta_All_Beauty.csv')"
   ]
  },
  {
   "attachments": {},
   "cell_type": "markdown",
   "metadata": {},
   "source": [
    "Stworzenie listy użytkowników i produktów"
   ]
  },
  {
   "cell_type": "code",
   "execution_count": 61,
   "metadata": {},
   "outputs": [
    {
     "name": "stderr",
     "output_type": "stream",
     "text": [
      "INFO:root:Duplicated users: 47307.\n",
      "INFO:root:Rows number after data cleaning: 324038.\n"
     ]
    }
   ],
   "source": [
    "# Drop duplicated user ids\n",
    "log.info(f\"Duplicated users: {ratings_df.duplicated(subset='reviewerID').sum()}.\")\n",
    "ratings_df = ratings_df.drop_duplicates(subset='reviewerID')\n",
    "log.info(f\"Rows number after data cleaning: {len(ratings_df)}.\")"
   ]
  },
  {
   "cell_type": "code",
   "execution_count": 62,
   "metadata": {},
   "outputs": [
    {
     "name": "stdout",
     "output_type": "stream",
     "text": [
      "Number of user ids: 324038\n",
      "Number of item ids: 32488\n"
     ]
    }
   ],
   "source": [
    "user_ids = list(ratings_df['reviewerID'])\n",
    "asins = list(items_df[\"asin\"])\n",
    "print(f\"Number of user ids: {len(user_ids)}\\nNumber of item ids: {len(asins)}\")"
   ]
  },
  {
   "attachments": {},
   "cell_type": "markdown",
   "metadata": {},
   "source": [
    "Stworzenie tabeli w bazie danych"
   ]
  },
  {
   "cell_type": "code",
   "execution_count": 7,
   "metadata": {},
   "outputs": [
    {
     "name": "stderr",
     "output_type": "stream",
     "text": [
      "INFO:root:Query executed\n"
     ]
    }
   ],
   "source": [
    "## Create table to store ratings data if it does not exist\n",
    "create_recommendations = '''create table IF NOT exists recommendations (\n",
    "\tuser_id varchar(20),\n",
    "    recommendations varchar,\n",
    "    model varchar(100),\n",
    "    model_version int4\n",
    ");'''\n",
    "\n",
    "create_table_in_postgres_db(create_recommendations)"
   ]
  },
  {
   "attachments": {},
   "cell_type": "markdown",
   "metadata": {},
   "source": [
    "#### Generowanie rekomendacji z modelu z mechanizmem optymalizacji adagrad oraz funkcją straty BPR"
   ]
  },
  {
   "cell_type": "code",
   "execution_count": 9,
   "metadata": {},
   "outputs": [],
   "source": [
    "model_name = \"adagrad_bpr_model\"\n",
    "\n",
    "model_results_path = f'{RESULTS_PATH}/{model_name}'\n",
    "version = get_newest_existing_model_version(model_results_path)\n",
    "\n",
    "dataset = unpickle(f'{RESULTS_PATH}/{model_name}/dataset_v{version}.pkl')\n",
    "model = unpickle(f'{RESULTS_PATH}/{model_name}/{model_name}_v{version}.pkl')\n",
    "\n",
    "recommendations = generate_recommendations(dataset, asins, model, user_ids)"
   ]
  },
  {
   "cell_type": "code",
   "execution_count": 7,
   "metadata": {},
   "outputs": [],
   "source": [
    "RECOMMENDATIONS_FILE_PATH = f'{RESULTS_PATH}/recommendations/recommendations_{model_name}_v{version}'"
   ]
  },
  {
   "attachments": {},
   "cell_type": "markdown",
   "metadata": {},
   "source": [
    "Zapisywanie do pliku pickle"
   ]
  },
  {
   "cell_type": "code",
   "execution_count": 11,
   "metadata": {},
   "outputs": [
    {
     "name": "stderr",
     "output_type": "stream",
     "text": [
      "INFO:root:File /home/mborettini/recommender_system/results/recommendations/recommendations_adagrad_bpr_model_v1.pkl saved\n"
     ]
    }
   ],
   "source": [
    "save_data_to_pkl(f'{RECOMMENDATIONS_FILE_PATH}.pkl', recommendations)"
   ]
  },
  {
   "attachments": {},
   "cell_type": "markdown",
   "metadata": {},
   "source": [
    "Zapisywanie do pliku csv"
   ]
  },
  {
   "cell_type": "code",
   "execution_count": 12,
   "metadata": {},
   "outputs": [
    {
     "name": "stderr",
     "output_type": "stream",
     "text": [
      "INFO:root:File saved\n"
     ]
    }
   ],
   "source": [
    "save_recommendations_to_csv(\n",
    "    model_name,\n",
    "    f'{RECOMMENDATIONS_FILE_PATH}.csv',\n",
    "    recommendations,\n",
    "    version\n",
    ")"
   ]
  },
  {
   "attachments": {},
   "cell_type": "markdown",
   "metadata": {},
   "source": [
    "Ładowanie pliku csv do bazy danych PostgresSQL"
   ]
  },
  {
   "cell_type": "code",
   "execution_count": 9,
   "metadata": {},
   "outputs": [
    {
     "name": "stderr",
     "output_type": "stream",
     "text": [
      "INFO:root:Loaded 324038 rows to recommendations table\n"
     ]
    }
   ],
   "source": [
    "model_name = \"adagrad_bpr_model\"\n",
    "version = 1\n",
    "load_recommendations_data_from_csv_to_postgres_table(model_name, f'{RECOMMENDATIONS_FILE_PATH}.csv', version)"
   ]
  },
  {
   "attachments": {},
   "cell_type": "markdown",
   "metadata": {},
   "source": [
    "#### Generowanie rekomendacji z modelu z mechanizmem optymalizacji adadelta oraz funkcją straty BPR"
   ]
  },
  {
   "cell_type": "code",
   "execution_count": 10,
   "metadata": {},
   "outputs": [],
   "source": [
    "model_name = \"adadelta_bpr_model\"\n",
    "\n",
    "model_results_path = f'{RESULTS_PATH}/{model_name}'\n",
    "version = get_newest_existing_model_version(model_results_path)\n",
    "\n",
    "dataset = unpickle(f'{RESULTS_PATH}/{model_name}/dataset_v{version}.pkl')\n",
    "model = unpickle(f'{RESULTS_PATH}/{model_name}/{model_name}_v{version}.pkl')\n",
    "\n",
    "recommendations = generate_recommendations(dataset, asins, model, user_ids)"
   ]
  },
  {
   "attachments": {},
   "cell_type": "markdown",
   "metadata": {},
   "source": [
    "Zapisywanie do pliku pickle"
   ]
  },
  {
   "cell_type": "code",
   "execution_count": 11,
   "metadata": {},
   "outputs": [
    {
     "name": "stderr",
     "output_type": "stream",
     "text": [
      "INFO:root:File /home/mborettini/recommender_system/results/recommendations/recommendations_adagrad_bpr_model_v1.pkl saved\n"
     ]
    }
   ],
   "source": [
    "save_data_to_pkl(f'{RECOMMENDATIONS_FILE_PATH}.pkl', recommendations)"
   ]
  },
  {
   "attachments": {},
   "cell_type": "markdown",
   "metadata": {},
   "source": [
    "Zapisywanie do pliku csv"
   ]
  },
  {
   "cell_type": "code",
   "execution_count": 12,
   "metadata": {},
   "outputs": [
    {
     "name": "stderr",
     "output_type": "stream",
     "text": [
      "INFO:root:File saved\n"
     ]
    }
   ],
   "source": [
    "save_recommendations_to_csv(\n",
    "    model_name,\n",
    "    f'{RECOMMENDATIONS_FILE_PATH}.csv',\n",
    "    recommendations,\n",
    "    version\n",
    ")"
   ]
  },
  {
   "attachments": {},
   "cell_type": "markdown",
   "metadata": {},
   "source": [
    "Ładowanie pliku csv do bazy danych PostgresSQL"
   ]
  },
  {
   "cell_type": "code",
   "execution_count": 13,
   "metadata": {},
   "outputs": [
    {
     "name": "stderr",
     "output_type": "stream",
     "text": [
      "INFO:root:Loaded 324038 rows to recommendations table\n"
     ]
    }
   ],
   "source": [
    "load_recommendations_data_from_csv_to_postgres_table(model_name, f'{RECOMMENDATIONS_FILE_PATH}.csv', version)"
   ]
  },
  {
   "attachments": {},
   "cell_type": "markdown",
   "metadata": {},
   "source": [
    "#### Generowanie rekomendacji z modelu z mechanizmem optymalizacji adagrad oraz funkcją straty WARP"
   ]
  },
  {
   "cell_type": "code",
   "execution_count": null,
   "metadata": {},
   "outputs": [],
   "source": [
    "model_name = \"adagrad_warp_model\"\n",
    "\n",
    "model_results_path = f'{RESULTS_PATH}/{model_name}'\n",
    "version = get_newest_existing_model_version(model_results_path)\n",
    "\n",
    "dataset = unpickle(f'{RESULTS_PATH}/{model_name}/dataset_v{version}.pkl')\n",
    "model = unpickle(f'{RESULTS_PATH}/{model_name}/{model_name}_v{version}.pkl')\n",
    "\n",
    "recommendations = generate_recommendations(dataset, asins, model)"
   ]
  },
  {
   "attachments": {},
   "cell_type": "markdown",
   "metadata": {},
   "source": [
    "Zapisywanie do pliku pickle"
   ]
  },
  {
   "cell_type": "code",
   "execution_count": null,
   "metadata": {},
   "outputs": [],
   "source": [
    "save_data_to_pkl(f'{RECOMMENDATIONS_FILE_PATH}.pkl', recommendations)"
   ]
  },
  {
   "attachments": {},
   "cell_type": "markdown",
   "metadata": {},
   "source": [
    "Zapisywanie do pliku csv"
   ]
  },
  {
   "cell_type": "code",
   "execution_count": null,
   "metadata": {},
   "outputs": [],
   "source": [
    "save_recommendations_to_csv(\n",
    "    model_name,\n",
    "    f'{RECOMMENDATIONS_FILE_PATH}.csv',\n",
    "    recommendations,\n",
    "    version\n",
    ")"
   ]
  },
  {
   "attachments": {},
   "cell_type": "markdown",
   "metadata": {},
   "source": [
    "Ładowanie pliku csv do bazy danych PostgresSQL"
   ]
  },
  {
   "cell_type": "code",
   "execution_count": 14,
   "metadata": {},
   "outputs": [
    {
     "name": "stderr",
     "output_type": "stream",
     "text": [
      "INFO:root:Loaded 324038 rows to recommendations table\n"
     ]
    }
   ],
   "source": [
    "load_recommendations_data_from_csv_to_postgres_table(model_name, f'{RECOMMENDATIONS_FILE_PATH}.csv', version)"
   ]
  },
  {
   "attachments": {},
   "cell_type": "markdown",
   "metadata": {},
   "source": [
    "#### Generowanie rekomendacji z modelu z mechanizmem optymalizacji adadelta oraz funkcją straty WARP"
   ]
  },
  {
   "cell_type": "code",
   "execution_count": 9,
   "metadata": {},
   "outputs": [
    {
     "name": "stderr",
     "output_type": "stream",
     "text": [
      "INFO:root:Data have been pickled.\n"
     ]
    }
   ],
   "source": [
    "model_name = \"adadelta_warp_model\"\n",
    "\n",
    "model_results_path = f'{RESULTS_PATH}/{model_name}'\n",
    "version = get_newest_existing_model_version(model_results_path)\n",
    "\n",
    "dataset = unpickle(f'{RESULTS_PATH}/{model_name}/dataset_v{version}.pkl')\n",
    "model = unpickle(f'{RESULTS_PATH}/{model_name}/{model_name}_v{version}.pkl')\n",
    "\n",
    "recommendations = generate_recommendations(dataset, asins, model, user_ids)"
   ]
  },
  {
   "attachments": {},
   "cell_type": "markdown",
   "metadata": {},
   "source": [
    "Zapisywanie do pliku pickle"
   ]
  },
  {
   "cell_type": "code",
   "execution_count": null,
   "metadata": {},
   "outputs": [],
   "source": [
    "save_data_to_pkl(f'{RECOMMENDATIONS_FILE_PATH}.pkl', recommendations)"
   ]
  },
  {
   "attachments": {},
   "cell_type": "markdown",
   "metadata": {},
   "source": [
    "Zapisywanie do pliku csv"
   ]
  },
  {
   "cell_type": "code",
   "execution_count": null,
   "metadata": {},
   "outputs": [],
   "source": [
    "save_recommendations_to_csv(\n",
    "    model_name,\n",
    "    f'{RECOMMENDATIONS_FILE_PATH}.csv',\n",
    "    recommendations,\n",
    "    version\n",
    ")"
   ]
  },
  {
   "attachments": {},
   "cell_type": "markdown",
   "metadata": {},
   "source": [
    "Ładowanie pliku csv do bazy danych PostgresSQL"
   ]
  },
  {
   "cell_type": "code",
   "execution_count": null,
   "metadata": {},
   "outputs": [],
   "source": [
    "load_recommendations_data_from_csv_to_postgres_table(model_name, f'{RECOMMENDATIONS_FILE_PATH}.csv', version)"
   ]
  },
  {
   "attachments": {},
   "cell_type": "markdown",
   "metadata": {},
   "source": [
    "#### Generowanie rekomendacji z modelu z mechanizmem optymalizacji adagrad oraz funkcją straty k-OS WARP"
   ]
  },
  {
   "cell_type": "code",
   "execution_count": 10,
   "metadata": {},
   "outputs": [
    {
     "name": "stderr",
     "output_type": "stream",
     "text": [
      "INFO:root:Data have been pickled.\n"
     ]
    }
   ],
   "source": [
    "model_name = \"adagrad_kos_warp_model\"\n",
    "\n",
    "model_results_path = f'{RESULTS_PATH}/{model_name}'\n",
    "version = get_newest_existing_model_version(model_results_path)\n",
    "\n",
    "dataset = unpickle(f'{RESULTS_PATH}/{model_name}/dataset_v{version}.pkl')\n",
    "model = unpickle(f'{RESULTS_PATH}/{model_name}/{model_name}_v{version}.pkl')\n",
    "\n",
    "recommendations = generate_recommendations(dataset, asins, model, user_ids)"
   ]
  },
  {
   "attachments": {},
   "cell_type": "markdown",
   "metadata": {},
   "source": [
    "Zapisywanie do pliku pickle"
   ]
  },
  {
   "cell_type": "code",
   "execution_count": null,
   "metadata": {},
   "outputs": [],
   "source": [
    "save_data_to_pkl(f'{RECOMMENDATIONS_FILE_PATH}.pkl', recommendations)"
   ]
  },
  {
   "attachments": {},
   "cell_type": "markdown",
   "metadata": {},
   "source": [
    "Zapisywanie do pliku csv"
   ]
  },
  {
   "cell_type": "code",
   "execution_count": null,
   "metadata": {},
   "outputs": [],
   "source": [
    "save_recommendations_to_csv(\n",
    "    model_name,\n",
    "    f'{RECOMMENDATIONS_FILE_PATH}.csv',\n",
    "    recommendations,\n",
    "    version\n",
    ")"
   ]
  },
  {
   "attachments": {},
   "cell_type": "markdown",
   "metadata": {},
   "source": [
    "Ładowanie pliku csv do bazy danych PostgresSQL"
   ]
  },
  {
   "cell_type": "code",
   "execution_count": null,
   "metadata": {},
   "outputs": [],
   "source": [
    "load_recommendations_data_from_csv_to_postgres_table(model_name, f'{RECOMMENDATIONS_FILE_PATH}.csv', version)"
   ]
  },
  {
   "attachments": {},
   "cell_type": "markdown",
   "metadata": {},
   "source": [
    "Generowanie rekomendacji z modelu z mechanizmem optymalizacji adadelta oraz funkcją straty k-OS WARP"
   ]
  },
  {
   "cell_type": "code",
   "execution_count": 11,
   "metadata": {},
   "outputs": [
    {
     "name": "stderr",
     "output_type": "stream",
     "text": [
      "INFO:root:Data have been pickled.\n"
     ]
    }
   ],
   "source": [
    "model_name = \"adadelta_kos_warp_model\"\n",
    "\n",
    "model_results_path = f'{RESULTS_PATH}/{model_name}'\n",
    "version = get_newest_existing_model_version(model_results_path)\n",
    "\n",
    "dataset = unpickle(f'{RESULTS_PATH}/{model_name}/dataset_v{version}.pkl')\n",
    "model = unpickle(f'{RESULTS_PATH}/{model_name}/{model_name}_v{version}.pkl')\n",
    "\n",
    "recommendations = generate_recommendations(dataset, asins, model, user_ids)"
   ]
  },
  {
   "attachments": {},
   "cell_type": "markdown",
   "metadata": {},
   "source": [
    "Zapisywanie do pliku pickle"
   ]
  },
  {
   "cell_type": "code",
   "execution_count": null,
   "metadata": {},
   "outputs": [],
   "source": [
    "save_data_to_pkl(f'{RECOMMENDATIONS_FILE_PATH}.pkl', recommendations)"
   ]
  },
  {
   "attachments": {},
   "cell_type": "markdown",
   "metadata": {},
   "source": [
    "Zapisywanie do pliku csv"
   ]
  },
  {
   "cell_type": "code",
   "execution_count": null,
   "metadata": {},
   "outputs": [],
   "source": [
    "save_recommendations_to_csv(\n",
    "    model_name,\n",
    "    f'{RECOMMENDATIONS_FILE_PATH}.csv',\n",
    "    recommendations,\n",
    "    version\n",
    ")"
   ]
  },
  {
   "attachments": {},
   "cell_type": "markdown",
   "metadata": {},
   "source": [
    "Ładowanie pliku csv do bazy danych PostgresSQL"
   ]
  },
  {
   "cell_type": "code",
   "execution_count": null,
   "metadata": {},
   "outputs": [],
   "source": [
    "load_recommendations_data_from_csv_to_postgres_table(model_name, f'{RECOMMENDATIONS_FILE_PATH}.csv', version)"
   ]
  }
 ],
 "metadata": {
  "kernelspec": {
   "display_name": "Python 3",
   "language": "python",
   "name": "python3"
  },
  "language_info": {
   "codemirror_mode": {
    "name": "ipython",
    "version": 3
   },
   "file_extension": ".py",
   "mimetype": "text/x-python",
   "name": "python",
   "nbconvert_exporter": "python",
   "pygments_lexer": "ipython3",
   "version": "3.10.6"
  },
  "orig_nbformat": 4
 },
 "nbformat": 4,
 "nbformat_minor": 2
}
