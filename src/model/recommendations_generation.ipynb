{
 "cells": [
  {
   "attachments": {},
   "cell_type": "markdown",
   "metadata": {},
   "source": [
    "### Generowanie predykcji dla użytkowników"
   ]
  },
  {
   "attachments": {},
   "cell_type": "markdown",
   "metadata": {},
   "source": [
    "Import niezbędnych bibliotek, definicja ustawień logowania i stałych"
   ]
  },
  {
   "cell_type": "code",
   "execution_count": 15,
   "metadata": {},
   "outputs": [],
   "source": [
    "import pandas as pd\n",
    "\n",
    "import logging as log\n",
    "from os.path import dirname, join, abspath\n",
    "import sys\n",
    "sys.path.insert(0, abspath(join(dirname('recommender_system'), '..')))\n",
    "\n",
    "from src.utils.helper import (\n",
    "    generate_recommendations,\n",
    "    get_newest_existing_model_version,\n",
    "    read_data_from_gziped_file,\n",
    "    save_data_to_pkl,\n",
    "    select_random_users,\n",
    "    unpickle\n",
    ")"
   ]
  },
  {
   "cell_type": "code",
   "execution_count": 2,
   "metadata": {},
   "outputs": [],
   "source": [
    "logger = log.getLogger()\n",
    "logger.setLevel(log.INFO)"
   ]
  },
  {
   "cell_type": "code",
   "execution_count": 3,
   "metadata": {},
   "outputs": [],
   "source": [
    "BASE_PATH = abspath(join(dirname('recommender_system'), '../../..'))\n",
    "RESULTS_PATH = f'{BASE_PATH}/results'"
   ]
  },
  {
   "attachments": {},
   "cell_type": "markdown",
   "metadata": {},
   "source": [
    "Załadowanie danych z plików do obiektów DataFrame"
   ]
  },
  {
   "cell_type": "code",
   "execution_count": 4,
   "metadata": {},
   "outputs": [
    {
     "name": "stderr",
     "output_type": "stream",
     "text": [
      "INFO:root:Reading data from file All_Beauty.json.gz...\n",
      "INFO:root:Retrieved 371345 records from file All_Beauty.json.gz\n"
     ]
    }
   ],
   "source": [
    "ratings = read_data_from_gziped_file(path=f'{BASE_PATH}/recommender_system/input_data/All_Beauty.json.gz')\n",
    "ratings_df = pd.DataFrame.from_dict(ratings)"
   ]
  },
  {
   "cell_type": "code",
   "execution_count": 5,
   "metadata": {},
   "outputs": [
    {
     "name": "stderr",
     "output_type": "stream",
     "text": [
      "INFO:root:Reading data from file meta_All_Beauty.json.gz...\n",
      "INFO:root:Retrieved 32892 records from file meta_All_Beauty.json.gz\n"
     ]
    }
   ],
   "source": [
    "items = read_data_from_gziped_file(path=f'{BASE_PATH}/recommender_system/input_data/meta_All_Beauty.json.gz')\n",
    "items_df = pd.DataFrame.from_dict(ratings)"
   ]
  },
  {
   "attachments": {},
   "cell_type": "markdown",
   "metadata": {},
   "source": [
    "Deduplikacja danych"
   ]
  },
  {
   "cell_type": "code",
   "execution_count": 6,
   "metadata": {},
   "outputs": [
    {
     "name": "stderr",
     "output_type": "stream",
     "text": [
      "INFO:root:Duplicated product asins: 338759.\n",
      "INFO:root:Rows number after data cleaning: 32586.\n"
     ]
    }
   ],
   "source": [
    "log.info(f\"Duplicated product asins: {items_df.duplicated(subset='asin').sum()}.\")\n",
    "items_df = items_df.drop_duplicates(subset='asin')\n",
    "log.info(f\"Rows number after data cleaning: {len(items_df)}.\")"
   ]
  },
  {
   "cell_type": "code",
   "execution_count": 8,
   "metadata": {},
   "outputs": [
    {
     "name": "stdout",
     "output_type": "stream",
     "text": [
      "Number of user ids: 324038\n",
      "Number of item ids: 32586\n"
     ]
    }
   ],
   "source": [
    "user_ids = list(ratings_df.drop_duplicates(subset=\"reviewerID\")[\"reviewerID\"])\n",
    "asins = list(items_df[\"asin\"])\n",
    "\n",
    "print(f\"Number of user ids: {len(user_ids)}\\nNumber of item ids: {len(asins)}\")"
   ]
  },
  {
   "attachments": {},
   "cell_type": "markdown",
   "metadata": {},
   "source": [
    "Generowanie rekomendacji z modelu z mechanizmem optymalizacji adagrad oraz funkcją straty WARP"
   ]
  },
  {
   "cell_type": "code",
   "execution_count": 17,
   "metadata": {},
   "outputs": [
    {
     "name": "stderr",
     "output_type": "stream",
     "text": [
      "INFO:root:File /home/mborettini/recommender_system/results/recommendations/recommendations_adagrad_warp_model_v5.pkl saved\n"
     ]
    },
    {
     "name": "stdout",
     "output_type": "stream",
     "text": [
      "{'A1FBW5LJLWLYPK': ['B000FOI48G', 'B000GLRREU', '1620213982'], 'A2L7Y152XM8TZB': ['B00HSBLUNK', 'B00LMNK9DM', 'B010Q0U06C'], 'A10YTGRF93WEUM': ['B006UV6L8S', 'B015A95L36', 'B00LMNK9DM'], 'A1OGZE807J8YPS': ['B000FOI48G', 'B000GLRREU', '1620213982'], 'A3TITX958TAC25': ['B00LMNK9DM', 'B00HSBLUNK', 'B00PEV7E6I']}\n"
     ]
    }
   ],
   "source": [
    "model_name = \"adagrad_warp_model\"\n",
    "\n",
    "model_results_path = f'{RESULTS_PATH}/{model_name}'\n",
    "version = get_newest_existing_model_version(model_results_path)\n",
    "\n",
    "dataset = unpickle(f'{RESULTS_PATH}/{model_name}/dataset_v{version}.pkl')\n",
    "model = unpickle(f'{RESULTS_PATH}/{model_name}/{model_name}_v{version}.pkl')\n",
    "\n",
    "recommendations = generate_recommendations(dataset, asins, model, user_ids)\n",
    "\n",
    "save_data_to_pkl(f'{RESULTS_PATH}/recommendations/recommendations_{model_name}_v{version}.pkl', recommendations)\n"
   ]
  },
  {
   "attachments": {},
   "cell_type": "markdown",
   "metadata": {},
   "source": [
    "Generowanie rekomendacji z modelu z mechanizmem optymalizacji adadelta oraz funkcją straty WARP"
   ]
  },
  {
   "cell_type": "code",
   "execution_count": 9,
   "metadata": {},
   "outputs": [
    {
     "name": "stderr",
     "output_type": "stream",
     "text": [
      "INFO:root:Data have been pickled.\n"
     ]
    }
   ],
   "source": [
    "model_name = \"adadelta_warp_model\"\n",
    "\n",
    "model_results_path = f'{RESULTS_PATH}/{model_name}'\n",
    "version = get_newest_existing_model_version(model_results_path)\n",
    "\n",
    "dataset = unpickle(f'{RESULTS_PATH}/{model_name}/dataset_v{version}.pkl')\n",
    "model = unpickle(f'{RESULTS_PATH}/{model_name}/{model_name}_v{version}.pkl')\n",
    "\n",
    "recommendations = generate_recommendations(dataset, asins, model, user_ids)\n",
    "\n",
    "save_data_to_pkl(f'{RESULTS_PATH}/recommendations/recommendations_{model_name}_v{version}.pkl', recommendations)"
   ]
  },
  {
   "attachments": {},
   "cell_type": "markdown",
   "metadata": {},
   "source": [
    "Generowanie rekomendacji z modelu z mechanizmem optymalizacji adagrad oraz funkcją straty k-OS WARP"
   ]
  },
  {
   "cell_type": "code",
   "execution_count": 10,
   "metadata": {},
   "outputs": [
    {
     "name": "stderr",
     "output_type": "stream",
     "text": [
      "INFO:root:Data have been pickled.\n"
     ]
    }
   ],
   "source": [
    "model_name = \"adagrad_kos_warp_model\"\n",
    "\n",
    "model_results_path = f'{RESULTS_PATH}/{model_name}'\n",
    "version = get_newest_existing_model_version(model_results_path)\n",
    "\n",
    "dataset = unpickle(f'{RESULTS_PATH}/{model_name}/dataset_v{version}.pkl')\n",
    "model = unpickle(f'{RESULTS_PATH}/{model_name}/{model_name}_v{version}.pkl')\n",
    "\n",
    "recommendations = generate_recommendations(dataset, asins, model, user_ids)\n",
    "\n",
    "save_data_to_pkl(f'{RESULTS_PATH}/recommendations/recommendations_{model_name}_v{version}.pkl', recommendations)"
   ]
  },
  {
   "attachments": {},
   "cell_type": "markdown",
   "metadata": {},
   "source": [
    "Generowanie rekomendacji z modelu z mechanizmem optymalizacji adadelta oraz funkcją straty k-OS WARP"
   ]
  },
  {
   "cell_type": "code",
   "execution_count": 11,
   "metadata": {},
   "outputs": [
    {
     "name": "stderr",
     "output_type": "stream",
     "text": [
      "INFO:root:Data have been pickled.\n"
     ]
    }
   ],
   "source": [
    "model_name = \"adadelta_kos_warp_model\"\n",
    "\n",
    "model_results_path = f'{RESULTS_PATH}/{model_name}'\n",
    "version = get_newest_existing_model_version(model_results_path)\n",
    "\n",
    "dataset = unpickle(f'{RESULTS_PATH}/{model_name}/dataset_v{version}.pkl')\n",
    "model = unpickle(f'{RESULTS_PATH}/{model_name}/{model_name}_v{version}.pkl')\n",
    "\n",
    "recommendations = generate_recommendations(dataset, asins, model, user_ids)\n",
    "\n",
    "save_data_to_pkl(f'{RESULTS_PATH}/recommendations/recommendations_{model_name}_v{version}.pkl', recommendations)"
   ]
  }
 ],
 "metadata": {
  "kernelspec": {
   "display_name": "Python 3",
   "language": "python",
   "name": "python3"
  },
  "language_info": {
   "codemirror_mode": {
    "name": "ipython",
    "version": 3
   },
   "file_extension": ".py",
   "mimetype": "text/x-python",
   "name": "python",
   "nbconvert_exporter": "python",
   "pygments_lexer": "ipython3",
   "version": "3.10.6"
  },
  "orig_nbformat": 4
 },
 "nbformat": 4,
 "nbformat_minor": 2
}
