{
 "cells": [
  {
   "attachments": {},
   "cell_type": "markdown",
   "metadata": {},
   "source": [
    "Run second"
   ]
  },
  {
   "attachments": {},
   "cell_type": "markdown",
   "metadata": {},
   "source": [
    "### Generowanie wykresów porównujących sześć modeli pod względem AUC oraz czasu trwania uczenia"
   ]
  },
  {
   "attachments": {},
   "cell_type": "markdown",
   "metadata": {},
   "source": [
    "Import niezbędnych bibliotek, definicja ustawień logowania i stałych"
   ]
  },
  {
   "cell_type": "code",
   "execution_count": 3,
   "metadata": {},
   "outputs": [],
   "source": [
    "import numpy as np\n",
    "import matplotlib.pyplot as plt\n",
    "import pandas as pd\n",
    "\n",
    "from os.path import dirname, join, abspath\n",
    "import sys\n",
    "sys.path.insert(0, abspath(join(dirname('recommender_system'), '..')))\n",
    "\n",
    "from src.utils.helper import (\n",
    "    get_newest_existing_model_version,\n",
    "    unpickle\n",
    ")"
   ]
  },
  {
   "cell_type": "code",
   "execution_count": 4,
   "metadata": {},
   "outputs": [],
   "source": [
    "%reload_ext autoreload\n",
    "%autoreload 2\n",
    "%matplotlib inline\n",
    "\n",
    "BASE_PATH = abspath(join(dirname('recommender_system'), '../../..'))\n",
    "RESULTS_PATH = f'{BASE_PATH}/results'"
   ]
  },
  {
   "attachments": {},
   "cell_type": "markdown",
   "metadata": {},
   "source": [
    "Generowanie wykresu porównującego miarę AUC dla czterech modeli"
   ]
  },
  {
   "cell_type": "code",
   "execution_count": null,
   "metadata": {},
   "outputs": [],
   "source": [
    "# AUC metrics comparision\n",
    "model_name = 'adagrad_bpr_model'\n",
    "model_results_path = f'{RESULTS_PATH}/{model_name}'\n",
    "version = get_newest_existing_model_version(model_results_path)\n",
    "adagrad_bpr_model_auc = np.array(unpickle(f'{RESULTS_PATH}/{model_name}/{model_name}_auc_v{version}.pkl'))\n",
    "\n",
    "model_name = 'adadelta_bpr_model'\n",
    "adadelta_bpr_model_auc = np.array(unpickle(f'{RESULTS_PATH}/{model_name}/{model_name}_auc_v{version}.pkl'))\n",
    "\n",
    "model_name = 'adagrad_warp_model'\n",
    "adagrad_warp_model_auc = np.array(unpickle(f'{RESULTS_PATH}/{model_name}/{model_name}_auc_v{version}.pkl'))\n",
    "\n",
    "model_name = 'adadelta_warp_model'\n",
    "adadelta_warp_model_auc = np.array(unpickle(f'{RESULTS_PATH}/{model_name}/{model_name}_auc_v{version}.pkl'))\n",
    "\n",
    "model_name = 'adagrad_kos_warp_model'\n",
    "adagrad_kos_warp_model_auc = np.array(unpickle(f'{RESULTS_PATH}/{model_name}/{model_name}_auc_v{version}.pkl'))\n",
    "\n",
    "model_name = 'adadelta_kos_warp_model'\n",
    "adadelta_kos_warp_model_auc = np.array(unpickle(f'{RESULTS_PATH}/{model_name}/{model_name}_auc_v{version}.pkl'))\n",
    "\n",
    "x = np.arange(len(adagrad_warp_model_auc))\n",
    "plt.title('AUC metrics comparision')\n",
    "plt.plot(x, adagrad_bpr_model_auc)\n",
    "plt.plot(x, adadelta_bpr_model_auc)\n",
    "plt.plot(x, adagrad_warp_model_auc)\n",
    "plt.plot(x, adadelta_warp_model_auc)\n",
    "plt.plot(x, adagrad_kos_warp_model_auc)\n",
    "plt.plot(x, adadelta_kos_warp_model_auc)\n",
    "plt.legend(['adagrad_bpr_model', 'adadelta_bpr_model', 'adagrad_warp', 'adadelta_warp', 'adagrad_kos_warp', 'adadelta_kos_warp'], loc='lower right')\n",
    "plt.xlabel('Epochs')\n",
    "plt.ylabel('AUC')\n",
    "plt.show()"
   ]
  },
  {
   "attachments": {},
   "cell_type": "markdown",
   "metadata": {},
   "source": [
    "Max AUC"
   ]
  },
  {
   "cell_type": "code",
   "execution_count": 34,
   "metadata": {},
   "outputs": [
    {
     "name": "stdout",
     "output_type": "stream",
     "text": [
      "                           max AUC\n",
      "Adadelta k-OS WARP model  0.879869\n",
      "Adadelta WARP model       0.879724\n",
      "Adagrad k-OS WARP model   0.852475\n",
      "Adagrad BPR model         0.850706\n",
      "Adagrad WARP model        0.847618\n",
      "Adadelta BPR model        0.846886\n"
     ]
    }
   ],
   "source": [
    "models_avg = {\n",
    "    'Adagrad BPR model': max(adagrad_bpr_model_auc),\n",
    "    'Adadelta BPR model': max(adadelta_bpr_model_auc),\n",
    "    'Adagrad WARP model': max(adagrad_warp_model_auc),\n",
    "    'Adadelta WARP model': max(adadelta_warp_model_auc),\n",
    "    'Adagrad k-OS WARP model': max(adagrad_kos_warp_model_auc),\n",
    "    'Adadelta k-OS WARP model': max(adadelta_kos_warp_model_auc),\n",
    "}\n",
    "\n",
    "df = pd.DataFrame().from_dict(\n",
    "                        data=models_avg,\n",
    "                        columns=['max AUC'],\n",
    "                        orient='index'\n",
    "                    ).sort_values(by=['max AUC'], ascending=False)\n",
    "\n",
    "print(df)\n"
   ]
  },
  {
   "attachments": {},
   "cell_type": "markdown",
   "metadata": {},
   "source": [
    "Average AUC"
   ]
  },
  {
   "cell_type": "code",
   "execution_count": 33,
   "metadata": {},
   "outputs": [
    {
     "name": "stdout",
     "output_type": "stream",
     "text": [
      "                           avg AUC\n",
      "Adadelta k-OS WARP model  0.876102\n",
      "Adadelta WARP model       0.875466\n",
      "Adagrad k-OS WARP model   0.848509\n",
      "Adadelta BPR model        0.845891\n",
      "Adagrad BPR model         0.843885\n",
      "Adagrad WARP model        0.832786\n"
     ]
    }
   ],
   "source": [
    "models_avg = {\n",
    "    'Adagrad BPR model': np.average(adagrad_bpr_model_auc),\n",
    "    'Adadelta BPR model': np.average(adadelta_bpr_model_auc),\n",
    "    'Adagrad WARP model': np.average(adagrad_warp_model_auc),\n",
    "    'Adadelta WARP model': np.average(adadelta_warp_model_auc),\n",
    "    'Adagrad k-OS WARP model': np.average(adagrad_kos_warp_model_auc),\n",
    "    'Adadelta k-OS WARP model': np.average(adadelta_kos_warp_model_auc),\n",
    "}\n",
    "\n",
    "df = pd.DataFrame().from_dict(\n",
    "                        data=models_avg,\n",
    "                        columns=['avg AUC'],\n",
    "                        orient='index'\n",
    "                    ).sort_values(by=['avg AUC'], ascending=False)\n",
    "\n",
    "print(df)"
   ]
  },
  {
   "attachments": {},
   "cell_type": "markdown",
   "metadata": {},
   "source": [
    "Generowanie wykresu porównującego czas trwania uczenia każdego z czterech modeli"
   ]
  },
  {
   "cell_type": "code",
   "execution_count": null,
   "metadata": {},
   "outputs": [],
   "source": [
    "# Duration comparision\n",
    "model_name = 'adagrad_bpr_model'\n",
    "model_results_path = f'{RESULTS_PATH}/{model_name}'\n",
    "version = get_newest_existing_model_version(model_results_path)\n",
    "adagrad_bpr_model_duration = np.array(unpickle(f'{RESULTS_PATH}/{model_name}/{model_name}_duration_v{version}.pkl'))\n",
    "\n",
    "model_name = 'adadelta_bpr_model'\n",
    "adadelta_bpr_model_duration = np.array(unpickle(f'{RESULTS_PATH}/{model_name}/{model_name}_duration_v{version}.pkl'))\n",
    "\n",
    "model_name = 'adagrad_warp_model'\n",
    "adagrad_warp_model_duration = np.array(unpickle(f'{RESULTS_PATH}/{model_name}/{model_name}_duration_v{version}.pkl'))\n",
    "\n",
    "model_name = 'adadelta_warp_model'\n",
    "adadelta_warp_model_duration = np.array(unpickle(f'{RESULTS_PATH}/{model_name}/{model_name}_duration_v{version}.pkl'))\n",
    "\n",
    "model_name = 'adagrad_kos_warp_model'\n",
    "adagrad_kos_warp_model_duration = np.array(unpickle(f'{RESULTS_PATH}/{model_name}/{model_name}_duration_v{version}.pkl'))\n",
    "\n",
    "model_name = 'adadelta_kos_warp_model'\n",
    "adadelta_kos_warp_model_duration = np.array(unpickle(f'{RESULTS_PATH}/{model_name}/{model_name}_duration_v{version}.pkl'))\n",
    "\n",
    "def addlabels(x, y):\n",
    "    for i in range(len(x)):\n",
    "        plt.text(round(i), round(y[i], 2)//2, round(y[i], 2), ha = 'center')\n",
    "\n",
    "data = {\n",
    "    'adagrad_bpr': sum(adagrad_bpr_model_duration),\n",
    "    'adadelta_bpr': sum(adadelta_bpr_model_duration),\n",
    "    'adagrad_warp': sum(adagrad_warp_model_duration),\n",
    "    'adadelta_warp': sum(adadelta_warp_model_duration),\n",
    "    'adagrad_kos_warp': sum(adagrad_kos_warp_model_duration),\n",
    "    'adadelta_kos_warp':sum(adadelta_kos_warp_model_duration),\n",
    "}\n",
    "\n",
    "models = list(data.keys())\n",
    "values = list(data.values())\n",
    "\n",
    "fig = plt.figure(figsize =(12, 7))\n",
    "\n",
    "plt.bar(models, values, width = 0.4)\n",
    "addlabels(models, values)\n",
    "\n",
    "plt.ylabel('Total learning time [s]')\n",
    "plt.xlabel('Model')\n",
    "plt.title('Duration comparision')\n",
    "plt.show()"
   ]
  },
  {
   "cell_type": "code",
   "execution_count": 14,
   "metadata": {},
   "outputs": [
    {
     "name": "stdout",
     "output_type": "stream",
     "text": [
      "                          training duration [s]\n",
      "Adadelta BPR model                    71.490803\n",
      "Adagrad BPR model                     52.209410\n",
      "Adadelta k-OS WARP model              51.561497\n",
      "Adadelta WARP model                   48.310231\n",
      "Adagrad k-OS WARP model               41.357300\n",
      "Adagrad WARP model                    40.530746\n"
     ]
    }
   ],
   "source": [
    "models_training_duration = {\n",
    "    'Adagrad BPR model': sum(adagrad_bpr_model_duration),\n",
    "    'Adadelta BPR model': sum(adadelta_bpr_model_duration),\n",
    "    'Adagrad WARP model': sum(adagrad_warp_model_duration),\n",
    "    'Adadelta WARP model': sum(adadelta_warp_model_duration),\n",
    "    'Adagrad k-OS WARP model': sum(adagrad_kos_warp_model_duration),\n",
    "    'Adadelta k-OS WARP model':sum(adadelta_kos_warp_model_duration),\n",
    "}\n",
    "\n",
    "df = pd.DataFrame().from_dict(\n",
    "                        data=models_training_duration,\n",
    "                        columns=['training duration [s]'],\n",
    "                        orient='index'\n",
    "                    ).sort_values(by=['training duration [s]'], ascending=False)\n",
    "\n",
    "print(df)"
   ]
  }
 ],
 "metadata": {
  "kernelspec": {
   "display_name": "Python 3",
   "language": "python",
   "name": "python3"
  },
  "language_info": {
   "codemirror_mode": {
    "name": "ipython",
    "version": 3
   },
   "file_extension": ".py",
   "mimetype": "text/x-python",
   "name": "python",
   "nbconvert_exporter": "python",
   "pygments_lexer": "ipython3",
   "version": "3.10.6"
  },
  "orig_nbformat": 4
 },
 "nbformat": 4,
 "nbformat_minor": 2
}
